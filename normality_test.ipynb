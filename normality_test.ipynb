{
 "cells": [
  {
   "cell_type": "code",
   "execution_count": 1,
   "metadata": {
    "collapsed": true
   },
   "outputs": [],
   "source": [
    "'''\n",
    "University of São Paulo - USP\n",
    "Institute of Mathematical and Computer Sciences - ICMC\n",
    "Distributed Systems and Concurrent Programming Laboratory - LaSDPC\n",
    "\n",
    "Authors: Vinícius Aires Barros\n",
    "         Leonardo Beck Prates\n",
    "         Sarita Mazzini Bruschi\n",
    "         Júlio Cezar Estrella\n",
    "'''\n",
    "\n",
    "from scipy import stats\n",
    "import matplotlib.pyplot as plt\n",
    "import pandas as pd\n",
    "import numpy as np"
   ]
  },
  {
   "cell_type": "code",
   "execution_count": 2,
   "metadata": {
    "collapsed": true
   },
   "outputs": [],
   "source": [
    "plt.rcParams['figure.figsize'] = (8.0, 8.0)\n",
    "plt.rcParams.update({'font.size': 16})\n",
    "\n",
    "#Sumary Result Path (PgSQL)\n",
    "pgsql_json_results_path = \"results/with-monitoring/pgsql/jmeter/json/\"\n",
    "pgsql_xml_results_path = \"results/with-monitoring/pgsql/jmeter/xml/\"\n",
    "\n",
    "#Sumary Result Path (MongoDB)\n",
    "mongo_json_results_path = \"results/with-monitoring/mongo/jmeter/json/\"\n",
    "mongo_xml_results_path = \"results/with-monitoring/mongo/jmeter/xml/\""
   ]
  },
  {
   "cell_type": "code",
   "execution_count": 8,
   "metadata": {
    "collapsed": true
   },
   "outputs": [],
   "source": [
    "input_names = [pgsql_json_results_path + \"jmeter-report-tpnode08-uniform-2000-30-json-pgsql.csv\",\n",
    "               pgsql_xml_results_path + \"jmeter-report-tpnode08-uniform-2000-30-xml-pgsql.csv\",\n",
    "               mongo_json_results_path + \"jmeter-report-tpnode08-uniform-2000-30-json-mongo.csv\",\n",
    "               mongo_xml_results_path + \"jmeter-report-tpnode08-uniform-2000-30-xml-mongo.csv\",\n",
    "               pgsql_json_results_path + \"jmeter-report-tpnode08-uniform-8000-30-json-pgsql.csv\",\n",
    "               pgsql_xml_results_path + \"jmeter-report-tpnode08-uniform-8000-30-xml-pgsql.csv\",\n",
    "               mongo_json_results_path + \"jmeter-report-tpnode08-uniform-8000-30-json-mongo.csv\",\n",
    "               mongo_xml_results_path + \"jmeter-report-tpnode08-uniform-8000-30-xml-mongo.csv\",\n",
    "               pgsql_json_results_path + \"jmeter-report-tpnode08-gaussian-2000-30-json-pgsql.csv\",\n",
    "               pgsql_xml_results_path + \"jmeter-report-tpnode08-gaussian-2000-30-xml-pgsql.csv\",\n",
    "               mongo_json_results_path + \"jmeter-report-tpnode08-gaussian-2000-30-json-mongo.csv\",\n",
    "               mongo_xml_results_path + \"jmeter-report-tpnode08-gaussian-2000-30-xml-mongo.csv\",\n",
    "               pgsql_json_results_path + \"jmeter-report-tpnode08-gaussian-8000-30-json-pgsql.csv\",\n",
    "               pgsql_xml_results_path + \"jmeter-report-tpnode08-gaussian-8000-30-xml-pgsql.csv\",\n",
    "               mongo_json_results_path + \"jmeter-report-tpnode08-gaussian-8000-30-json-mongo.csv\",\n",
    "               mongo_xml_results_path + \"jmeter-report-tpnode08-gaussian-8000-30-xml-mongo.csv\"]\n",
    "\n",
    "results = [pd.read_csv(f_name)['Latency'] for f_name in input_names]"
   ]
  },
  {
   "cell_type": "markdown",
   "metadata": {},
   "source": [
    "## Shapiro Wilk Test"
   ]
  },
  {
   "cell_type": "code",
   "execution_count": 12,
   "metadata": {},
   "outputs": [
    {
     "name": "stderr",
     "output_type": "stream",
     "text": [
      "/home/aires/anaconda3/lib/python3.6/site-packages/scipy/stats/morestats.py:1310: UserWarning: p-value may not be accurate for N > 5000.\n",
      "  warnings.warn(\"p-value may not be accurate for N > 5000.\")\n"
     ]
    },
    {
     "name": "stdout",
     "output_type": "stream",
     "text": [
      "(0.6148083209991455, 0.0)\n",
      "(0.9387182593345642, 0.0)\n",
      "(0.7754101157188416, 0.0)\n",
      "(0.9458647966384888, 0.0)\n",
      "(0.6078872680664062, 0.0)\n",
      "(0.9222157597541809, 0.0)\n",
      "(0.6856148838996887, 0.0)\n",
      "(0.9673520922660828, 0.0)\n",
      "(0.6358583569526672, 0.0)\n",
      "(0.9350635409355164, 0.0)\n",
      "(0.7952395677566528, 0.0)\n",
      "(0.9116386771202087, 0.0)\n",
      "(0.6208033561706543, 0.0)\n",
      "(0.9396393299102783, 0.0)\n",
      "(0.686147928237915, 0.0)\n",
      "(0.9311637878417969, 0.0)\n"
     ]
    }
   ],
   "source": [
    "for x in results:\n",
    "    print(stats.shapiro(x))"
   ]
  },
  {
   "cell_type": "markdown",
   "metadata": {},
   "source": [
    "## Normality Test"
   ]
  },
  {
   "cell_type": "code",
   "execution_count": 14,
   "metadata": {},
   "outputs": [
    {
     "name": "stdout",
     "output_type": "stream",
     "text": [
      "NormaltestResult(statistic=16658.489517867412, pvalue=0.0)\n",
      "NormaltestResult(statistic=8751.2382073227236, pvalue=0.0)\n",
      "NormaltestResult(statistic=8533.9700419945329, pvalue=0.0)\n",
      "NormaltestResult(statistic=9549.6264658074488, pvalue=0.0)\n",
      "NormaltestResult(statistic=67773.359144861039, pvalue=0.0)\n",
      "NormaltestResult(statistic=50291.674984030513, pvalue=0.0)\n",
      "NormaltestResult(statistic=34272.71181674028, pvalue=0.0)\n",
      "NormaltestResult(statistic=17898.852981211778, pvalue=0.0)\n",
      "NormaltestResult(statistic=12074.624133071829, pvalue=0.0)\n",
      "NormaltestResult(statistic=10734.304677631026, pvalue=0.0)\n",
      "NormaltestResult(statistic=6585.4974037142592, pvalue=0.0)\n",
      "NormaltestResult(statistic=15623.929247718677, pvalue=0.0)\n",
      "NormaltestResult(statistic=57725.154386955692, pvalue=0.0)\n",
      "NormaltestResult(statistic=39566.329765194045, pvalue=0.0)\n",
      "NormaltestResult(statistic=32279.884220089669, pvalue=0.0)\n",
      "NormaltestResult(statistic=45509.797934234884, pvalue=0.0)\n"
     ]
    }
   ],
   "source": [
    "for x in results:\n",
    "    print(stats.normaltest(x))"
   ]
  },
  {
   "cell_type": "markdown",
   "metadata": {},
   "source": [
    "## Kolmogorov-Smirnov"
   ]
  },
  {
   "cell_type": "code",
   "execution_count": 16,
   "metadata": {},
   "outputs": [
    {
     "name": "stdout",
     "output_type": "stream",
     "text": [
      "KstestResult(statistic=0.9999999990134123, pvalue=0.0)\n",
      "KstestResult(statistic=1.0, pvalue=0.0)\n",
      "KstestResult(statistic=1.0, pvalue=0.0)\n",
      "KstestResult(statistic=1.0, pvalue=0.0)\n",
      "KstestResult(statistic=0.99999971334842808, pvalue=0.0)\n",
      "KstestResult(statistic=1.0, pvalue=0.0)\n",
      "KstestResult(statistic=1.0, pvalue=0.0)\n",
      "KstestResult(statistic=1.0, pvalue=0.0)\n",
      "KstestResult(statistic=0.99999971334842808, pvalue=0.0)\n",
      "KstestResult(statistic=1.0, pvalue=0.0)\n",
      "KstestResult(statistic=1.0, pvalue=0.0)\n",
      "KstestResult(statistic=1.0, pvalue=0.0)\n",
      "KstestResult(statistic=0.99999971334842808, pvalue=0.0)\n",
      "KstestResult(statistic=1.0, pvalue=0.0)\n",
      "KstestResult(statistic=1.0, pvalue=0.0)\n",
      "KstestResult(statistic=1.0, pvalue=0.0)\n"
     ]
    }
   ],
   "source": [
    "for x in results:\n",
    "    print(stats.kstest(x,'norm', alternative = 'less'))"
   ]
  }
 ],
 "metadata": {
  "kernelspec": {
   "display_name": "Python 3",
   "language": "python",
   "name": "python3"
  },
  "language_info": {
   "codemirror_mode": {
    "name": "ipython",
    "version": 3
   },
   "file_extension": ".py",
   "mimetype": "text/x-python",
   "name": "python",
   "nbconvert_exporter": "python",
   "pygments_lexer": "ipython3",
   "version": "3.6.3"
  }
 },
 "nbformat": 4,
 "nbformat_minor": 2
}
